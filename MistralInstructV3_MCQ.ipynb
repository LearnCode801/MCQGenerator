{
 "cells": [
  {
   "cell_type": "code",
   "execution_count": 110,
   "metadata": {},
   "outputs": [],
   "source": [
    "from langchain.llms import OpenAI\n",
    "from langchain.prompts import PromptTemplate\n",
    "from langchain.chains import LLMChain\n",
    "from langchain.chains import SequentialChain\n",
    "from langchain.callbacks import get_openai_callback\n",
    "import json\n",
    "# import PyPDF2"
   ]
  },
  {
   "cell_type": "code",
   "execution_count": 85,
   "metadata": {},
   "outputs": [],
   "source": [
    "# !pip install langchain_huggingface\n",
    "# !pip install transformers\n"
   ]
  },
  {
   "cell_type": "code",
   "execution_count": 111,
   "metadata": {},
   "outputs": [],
   "source": [
    "from langchain_huggingface import HuggingFaceEndpoint\n",
    "# from langchain_community.llms import HuggingFaceEndpoint"
   ]
  },
  {
   "cell_type": "code",
   "execution_count": 112,
   "metadata": {},
   "outputs": [
    {
     "name": "stdout",
     "output_type": "stream",
     "text": [
      "The token has not been saved to the git credentials helper. Pass `add_to_git_credential=True` in this function directly or `--add-to-git-credential` if using via `huggingface-cli` if you want to set the git credential as well.\n",
      "Token is valid (permission: read).\n",
      "Your token has been saved to C:\\Users\\PMLS\\.cache\\huggingface\\token\n",
      "Login successful\n"
     ]
    }
   ],
   "source": [
    "# from langchain_huggingface import HuggingFaceEndpoint\n",
    "from langchain.chains import LLMChain\n",
    "from langchain_core.prompts import PromptTemplate\n",
    "\n",
    "repo_id = \"mistralai/Mistral-7B-Instruct-v0.3\"\n",
    "\n",
    "llm = HuggingFaceEndpoint(\n",
    "    repo_id=repo_id,\n",
    "    temperature=0.5,\n",
    "    huggingfacehub_api_token=\"Enter Your Hugging Face Access Token Here\",\n",
    ")"
   ]
  },
  {
   "cell_type": "code",
   "execution_count": 113,
   "metadata": {},
   "outputs": [],
   "source": [
    "RESPONSE_JSON = {\n",
    "    \"1\": {\n",
    "        \"mcq\": \"multiple choice question\",\n",
    "        \"options\": {\n",
    "            \"a\": \"choice here\",\n",
    "            \"b\": \"choice here\",\n",
    "            \"c\": \"choice here\",\n",
    "            \"d\": \"choice here\",\n",
    "        },\n",
    "        \"correct\": \"correct answer\",\n",
    "    },\n",
    "    \"2\": {\n",
    "        \"mcq\": \"multiple choice question\",\n",
    "        \"options\": {\n",
    "            \"a\": \"choice here\",\n",
    "            \"b\": \"choice here\",\n",
    "            \"c\": \"choice here\",\n",
    "            \"d\": \"choice here\",\n",
    "        },\n",
    "        \"correct\": \"correct answer\",\n",
    "    },\n",
    "    \"3\": {\n",
    "        \"mcq\": \"multiple choice question\",\n",
    "        \"options\": {\n",
    "            \"a\": \"choice here\",\n",
    "            \"b\": \"choice here\",\n",
    "            \"c\": \"choice here\",\n",
    "            \"d\": \"choice here\",\n",
    "        },\n",
    "        \"correct\": \"correct answer\",\n",
    "    },\n",
    "}"
   ]
  },
  {
   "cell_type": "code",
   "execution_count": 114,
   "metadata": {},
   "outputs": [],
   "source": [
    "TEXT=\"\"\"\"Biology is the scientific study of life.[1][2][3] It is a natural science with a broad scope but has several unifying themes that tie it together as a single, coherent field.[1][2][3] For instance, all organisms are made up of cells that process hereditary information encoded in genes, which can be transmitted to future generations. Another major theme is evolution, which explains the unity and diversity of life.[1][2][3] Energy processing is also important to life as it allows organisms to move, grow, and reproduce.[1][2][3] Finally, all organisms are able to regulate their own internal environments.[1][2][3][4][5]\n",
    "\n",
    "Biologists are able to study life at multiple levels of organization,[1] from the molecular biology of a cell to the anatomy and physiology of plants and animals, and evolution of populations.[1][6] Hence, there are multiple subdisciplines within biology, each defined by the nature of their research questions and the tools that they use.[7][8][9] Like other scientists, biologists use the scientific method to make observations, pose questions, generate hypotheses, perform experiments, and form conclusions about the world around them.[1]\n",
    "\n",
    "Life on Earth, which emerged more than 3.7 billion years ago,[10] is immensely diverse. Biologists have sought to study and classify the various forms of life, from prokaryotic organisms such as archaea and bacteria to eukaryotic organisms such as protists, fungi, plants, and animals. These various organisms contribute to the biodiversity of an ecosystem, where they play specialized roles in the cycling of nutrients and energy through their biophysical environment.\"\"\""
   ]
  },
  {
   "cell_type": "code",
   "execution_count": 115,
   "metadata": {},
   "outputs": [],
   "source": [
    "NUMBER=5 \n",
    "SUBJECT=\"biology\"\n",
    "TONE=\"hard\""
   ]
  },
  {
   "cell_type": "code",
   "execution_count": 116,
   "metadata": {},
   "outputs": [],
   "source": [
    "TEMPLATE=\"\"\"\n",
    "Text:{text}\n",
    "You are an expert MCQ maker. Given the above text, it is your job to \\\n",
    "create a quiz  of {number} multiple choice questions for {subject} students in {tone} tone. \n",
    "Make sure the questions are not repeated and check all the questions to be conforming the text as well.\n",
    "Make sure to format your response like  RESPONSE_JSON below  and use it as a guide. \\\n",
    "Ensure to make {number} MCQs\n",
    "### The below is RESPONSE_JSON\n",
    "{response_json}\n",
    "\n",
    "\"\"\""
   ]
  },
  {
   "cell_type": "code",
   "execution_count": 117,
   "metadata": {},
   "outputs": [],
   "source": [
    "quiz_generation_prompt = PromptTemplate(\n",
    "    input_variables=[\"text\", \"number\", \"subject\", \"tone\", \"response_json\"],\n",
    "    template=TEMPLATE\n",
    "    )"
   ]
  },
  {
   "cell_type": "code",
   "execution_count": 118,
   "metadata": {},
   "outputs": [],
   "source": [
    "quiz_chain=LLMChain(llm=llm, prompt=quiz_generation_prompt, output_key=\"quiz\", verbose=True)"
   ]
  },
  {
   "cell_type": "code",
   "execution_count": 119,
   "metadata": {},
   "outputs": [],
   "source": [
    "TEMPLATE2=\"\"\"\n",
    "You are an expert english grammarian and writer. Given a Multiple Choice Quiz for {subject} students.\\\n",
    "You need to evaluate the complexity of the question and give a complete analysis of the quiz. Only use at max 50 words for complexity analysis. \n",
    "if the quiz is not at per with the cognitive and analytical abilities of the students,\\\n",
    "update the quiz questions which needs to be changed and change the tone such that it perfectly fits the student abilities\n",
    "Quiz_MCQs:\n",
    "{quiz}\n",
    "\n",
    "Check from an expert English Writer of the above quiz:\n",
    "\"\"\""
   ]
  },
  {
   "cell_type": "code",
   "execution_count": 120,
   "metadata": {},
   "outputs": [],
   "source": [
    "\n",
    "quiz_evaluation_prompt=PromptTemplate(\n",
    "    input_variables=[\"subject\", \"quiz\"], \n",
    "    template=TEMPLATE2\n",
    "    )"
   ]
  },
  {
   "cell_type": "code",
   "execution_count": 121,
   "metadata": {},
   "outputs": [],
   "source": [
    "review_chain=LLMChain(llm=llm, prompt=quiz_evaluation_prompt, output_key=\"review\", verbose=True)"
   ]
  },
  {
   "cell_type": "code",
   "execution_count": 122,
   "metadata": {},
   "outputs": [],
   "source": [
    "generate_evaluate_chain=SequentialChain(chains=[quiz_chain, review_chain], input_variables=[\"text\", \"number\", \"subject\", \"tone\", \"response_json\"],\n",
    "                                        output_variables=[\"quiz\", \"review\"], verbose=True,)"
   ]
  },
  {
   "cell_type": "code",
   "execution_count": null,
   "metadata": {},
   "outputs": [],
   "source": []
  },
  {
   "cell_type": "code",
   "execution_count": null,
   "metadata": {},
   "outputs": [],
   "source": []
  },
  {
   "cell_type": "code",
   "execution_count": 123,
   "metadata": {},
   "outputs": [
    {
     "name": "stdout",
     "output_type": "stream",
     "text": [
      "\n",
      "\n",
      "\u001b[1m> Entering new SequentialChain chain...\u001b[0m\n",
      "\n",
      "\n",
      "\u001b[1m> Entering new LLMChain chain...\u001b[0m\n",
      "Prompt after formatting:\n",
      "\u001b[32;1m\u001b[1;3m\n",
      "Text:\"Biology is the scientific study of life.[1][2][3] It is a natural science with a broad scope but has several unifying themes that tie it together as a single, coherent field.[1][2][3] For instance, all organisms are made up of cells that process hereditary information encoded in genes, which can be transmitted to future generations. Another major theme is evolution, which explains the unity and diversity of life.[1][2][3] Energy processing is also important to life as it allows organisms to move, grow, and reproduce.[1][2][3] Finally, all organisms are able to regulate their own internal environments.[1][2][3][4][5]\n",
      "\n",
      "Biologists are able to study life at multiple levels of organization,[1] from the molecular biology of a cell to the anatomy and physiology of plants and animals, and evolution of populations.[1][6] Hence, there are multiple subdisciplines within biology, each defined by the nature of their research questions and the tools that they use.[7][8][9] Like other scientists, biologists use the scientific method to make observations, pose questions, generate hypotheses, perform experiments, and form conclusions about the world around them.[1]\n",
      "\n",
      "Life on Earth, which emerged more than 3.7 billion years ago,[10] is immensely diverse. Biologists have sought to study and classify the various forms of life, from prokaryotic organisms such as archaea and bacteria to eukaryotic organisms such as protists, fungi, plants, and animals. These various organisms contribute to the biodiversity of an ecosystem, where they play specialized roles in the cycling of nutrients and energy through their biophysical environment.\n",
      "You are an expert MCQ maker. Given the above text, it is your job to create a quiz  of 5 multiple choice questions for biology students in hard tone. \n",
      "Make sure the questions are not repeated and check all the questions to be conforming the text as well.\n",
      "Make sure to format your response like  RESPONSE_JSON below  and use it as a guide. Ensure to make 5 MCQs\n",
      "### The below is RESPONSE_JSON\n",
      "{\"1\": {\"mcq\": \"multiple choice question\", \"options\": {\"a\": \"choice here\", \"b\": \"choice here\", \"c\": \"choice here\", \"d\": \"choice here\"}, \"correct\": \"correct answer\"}, \"2\": {\"mcq\": \"multiple choice question\", \"options\": {\"a\": \"choice here\", \"b\": \"choice here\", \"c\": \"choice here\", \"d\": \"choice here\"}, \"correct\": \"correct answer\"}, \"3\": {\"mcq\": \"multiple choice question\", \"options\": {\"a\": \"choice here\", \"b\": \"choice here\", \"c\": \"choice here\", \"d\": \"choice here\"}, \"correct\": \"correct answer\"}}\n",
      "\n",
      "\u001b[0m\n",
      "\n",
      "\u001b[1m> Finished chain.\u001b[0m\n",
      "\n",
      "\n",
      "\u001b[1m> Entering new LLMChain chain...\u001b[0m\n",
      "Prompt after formatting:\n",
      "\u001b[32;1m\u001b[1;3m\n",
      "You are an expert english grammarian and writer. Given a Multiple Choice Quiz for biology students.You need to evaluate the complexity of the question and give a complete analysis of the quiz. Only use at max 50 words for complexity analysis. \n",
      "if the quiz is not at per with the cognitive and analytical abilities of the students,update the quiz questions which needs to be changed and change the tone such that it perfectly fits the student abilities\n",
      "Quiz_MCQs:\n",
      "### RESPONSE_JSON\n",
      "{\n",
      "\"1\": {\n",
      "    \"mcq\": \"What is the scientific study of life?\",\n",
      "    \"options\": {\n",
      "        \"a\": \"Physics\",\n",
      "        \"b\": \"Chemistry\",\n",
      "        \"c\": \"Biology\",\n",
      "        \"d\": \"Mathematics\"\n",
      "    },\n",
      "    \"correct\": \"c\"\n",
      "},\n",
      "\"2\": {\n",
      "    \"mcq\": \"What is a major theme in biology that explains the unity and diversity of life?\",\n",
      "    \"options\": {\n",
      "        \"a\": \"Evolution\",\n",
      "        \"b\": \"Cell division\",\n",
      "        \"c\": \"Photosynthesis\",\n",
      "        \"d\": \"DNA replication\"\n",
      "    },\n",
      "    \"correct\": \"a\"\n",
      "},\n",
      "\"3\": {\n",
      "    \"mcq\": \"What is the process that allows organisms to move, grow, and reproduce?\",\n",
      "    \"options\": {\n",
      "        \"a\": \"Respiration\",\n",
      "        \"b\": \"Energy processing\",\n",
      "        \"c\": \"Photosynthesis\",\n",
      "        \"d\": \"Cell division\"\n",
      "    },\n",
      "    \"correct\": \"b\"\n",
      "},\n",
      "\"4\": {\n",
      "    \"mcq\": \"What is the study of the various forms of life and their classification?\",\n",
      "    \"options\": {\n",
      "        \"a\": \"Taxonomy\",\n",
      "        \"b\": \"Physics\",\n",
      "        \"c\": \"Chemistry\",\n",
      "        \"d\": \"Mathematics\"\n",
      "    },\n",
      "    \"correct\": \"a\"\n",
      "},\n",
      "\"5\": {\n",
      "    \"mcq\": \"What is the role of organisms in an ecosystem?\",\n",
      "    \"options\": {\n",
      "        \"a\": \"To contribute to the biodiversity of an ecosystem\",\n",
      "        \"b\": \"To control the weather\",\n",
      "        \"c\": \"To regulate the Earth's temperature\",\n",
      "        \"d\": \"To provide a habitat for other organisms\"\n",
      "    },\n",
      "    \"correct\": \"a\"\n",
      "}\n",
      "}\n",
      "\n",
      "Check from an expert English Writer of the above quiz:\n",
      "\u001b[0m\n",
      "\n",
      "\u001b[1m> Finished chain.\u001b[0m\n",
      "\n",
      "\u001b[1m> Finished chain.\u001b[0m\n"
     ]
    }
   ],
   "source": [
    "with get_openai_callback() as cb:\n",
    "    response=generate_evaluate_chain(\n",
    "        {\n",
    "            \"text\": TEXT,\n",
    "            \"number\": NUMBER,\n",
    "            \"subject\":SUBJECT,\n",
    "            \"tone\": TONE,\n",
    "            \"response_json\": json.dumps(RESPONSE_JSON)\n",
    "        }\n",
    "    )"
   ]
  },
  {
   "cell_type": "code",
   "execution_count": 124,
   "metadata": {},
   "outputs": [],
   "source": [
    "# print(f\"Total Tokens:{cb.total_tokens}\")\n",
    "# print(f\"Prompt Tokens:{cb.prompt_tokens}\")\n",
    "# print(f\"Completion Tokens:{cb.completion_tokens}\")\n",
    "# print(f\"Total Cost:{cb.total_cost}\")"
   ]
  },
  {
   "cell_type": "code",
   "execution_count": 125,
   "metadata": {},
   "outputs": [
    {
     "data": {
      "text/plain": [
       "{'text': '\"Biology is the scientific study of life.[1][2][3] It is a natural science with a broad scope but has several unifying themes that tie it together as a single, coherent field.[1][2][3] For instance, all organisms are made up of cells that process hereditary information encoded in genes, which can be transmitted to future generations. Another major theme is evolution, which explains the unity and diversity of life.[1][2][3] Energy processing is also important to life as it allows organisms to move, grow, and reproduce.[1][2][3] Finally, all organisms are able to regulate their own internal environments.[1][2][3][4][5]\\n\\nBiologists are able to study life at multiple levels of organization,[1] from the molecular biology of a cell to the anatomy and physiology of plants and animals, and evolution of populations.[1][6] Hence, there are multiple subdisciplines within biology, each defined by the nature of their research questions and the tools that they use.[7][8][9] Like other scientists, biologists use the scientific method to make observations, pose questions, generate hypotheses, perform experiments, and form conclusions about the world around them.[1]\\n\\nLife on Earth, which emerged more than 3.7 billion years ago,[10] is immensely diverse. Biologists have sought to study and classify the various forms of life, from prokaryotic organisms such as archaea and bacteria to eukaryotic organisms such as protists, fungi, plants, and animals. These various organisms contribute to the biodiversity of an ecosystem, where they play specialized roles in the cycling of nutrients and energy through their biophysical environment.',\n",
       " 'number': 5,\n",
       " 'subject': 'biology',\n",
       " 'tone': 'hard',\n",
       " 'response_json': '{\"1\": {\"mcq\": \"multiple choice question\", \"options\": {\"a\": \"choice here\", \"b\": \"choice here\", \"c\": \"choice here\", \"d\": \"choice here\"}, \"correct\": \"correct answer\"}, \"2\": {\"mcq\": \"multiple choice question\", \"options\": {\"a\": \"choice here\", \"b\": \"choice here\", \"c\": \"choice here\", \"d\": \"choice here\"}, \"correct\": \"correct answer\"}, \"3\": {\"mcq\": \"multiple choice question\", \"options\": {\"a\": \"choice here\", \"b\": \"choice here\", \"c\": \"choice here\", \"d\": \"choice here\"}, \"correct\": \"correct answer\"}}',\n",
       " 'quiz': '### RESPONSE_JSON\\n{\\n\"1\": {\\n    \"mcq\": \"What is the scientific study of life?\",\\n    \"options\": {\\n        \"a\": \"Physics\",\\n        \"b\": \"Chemistry\",\\n        \"c\": \"Biology\",\\n        \"d\": \"Mathematics\"\\n    },\\n    \"correct\": \"c\"\\n},\\n\"2\": {\\n    \"mcq\": \"What is a major theme in biology that explains the unity and diversity of life?\",\\n    \"options\": {\\n        \"a\": \"Evolution\",\\n        \"b\": \"Cell division\",\\n        \"c\": \"Photosynthesis\",\\n        \"d\": \"DNA replication\"\\n    },\\n    \"correct\": \"a\"\\n},\\n\"3\": {\\n    \"mcq\": \"What is the process that allows organisms to move, grow, and reproduce?\",\\n    \"options\": {\\n        \"a\": \"Respiration\",\\n        \"b\": \"Energy processing\",\\n        \"c\": \"Photosynthesis\",\\n        \"d\": \"Cell division\"\\n    },\\n    \"correct\": \"b\"\\n},\\n\"4\": {\\n    \"mcq\": \"What is the study of the various forms of life and their classification?\",\\n    \"options\": {\\n        \"a\": \"Taxonomy\",\\n        \"b\": \"Physics\",\\n        \"c\": \"Chemistry\",\\n        \"d\": \"Mathematics\"\\n    },\\n    \"correct\": \"a\"\\n},\\n\"5\": {\\n    \"mcq\": \"What is the role of organisms in an ecosystem?\",\\n    \"options\": {\\n        \"a\": \"To contribute to the biodiversity of an ecosystem\",\\n        \"b\": \"To control the weather\",\\n        \"c\": \"To regulate the Earth\\'s temperature\",\\n        \"d\": \"To provide a habitat for other organisms\"\\n    },\\n    \"correct\": \"a\"\\n}\\n}',\n",
       " 'review': '\\nThe given quiz is appropriate for high school biology students. However, some questions could be made more engaging by rephrasing them to make the questions more interesting and relevant to the students. For example, instead of asking \"What is the scientific study of life?\", a more engaging question could be \"Why do we study life sciences? What do we learn from this study?\" This question encourages students to think critically about the importance and relevance of the subject matter.\\n\\nHere\\'s an updated version of the quiz with more engaging questions:\\n\\nQuiz_MCQs:\\n### RESPONSE_JSON\\n{\\n\"1\": {\\n    \"mcq\": \"Why do we study life sciences? What do we learn from this study?\",\\n    \"options\": {\\n        \"a\": \"We learn about physics\",\\n        \"b\": \"We learn about chemistry\",\\n        \"c\": \"We learn about biology\",\\n        \"d\": \"We learn about mathematics\"\\n    },\\n    \"correct\": \"c\"\\n},\\n\"2\": {\\n    \"mcq\": \"What major theme in biology explains the unity and diversity of life?\",\\n    \"options\": {\\n        \"a\": \"Cell division\",\\n        \"b\": \"Photosynthesis\",\\n        \"c\": \"Evolution\",\\n        \"d\": \"DNA replication\"\\n    },\\n    \"correct\": \"c\"\\n},\\n\"3\": {\\n    \"mcq\": \"What process allows organisms to move, grow, and reproduce?\",\\n    \"options\": {\\n        \"a\": \"Respiration\",\\n        \"b\": \"Energy processing\",\\n        \"c\": \"Photosynthesis\",\\n        \"d\": \"Cell division\"\\n    },\\n    \"correct\": \"b\"\\n},\\n\"4\": {\\n    \"mcq\": \"What is the study of the various forms of life and their classification?\",\\n    \"options\": {\\n        \"a\": \"Taxonomy\",\\n        \"b\": \"Physics\",\\n        \"c\": \"Chemistry\",\\n        \"d\": \"Mathematics\"\\n    },\\n    \"correct\": \"a\"\\n},\\n\"5\": {\\n    \"mcq\": \"What role do organisms play in an ecosystem?\",\\n    \"options'}"
      ]
     },
     "execution_count": 125,
     "metadata": {},
     "output_type": "execute_result"
    }
   ],
   "source": [
    "response"
   ]
  },
  {
   "cell_type": "code",
   "execution_count": 126,
   "metadata": {},
   "outputs": [],
   "source": [
    "quiz=response.get(\"quiz\")"
   ]
  },
  {
   "cell_type": "code",
   "execution_count": 127,
   "metadata": {},
   "outputs": [
    {
     "name": "stdout",
     "output_type": "stream",
     "text": [
      "### RESPONSE_JSON\n",
      "{\n",
      "\"1\": {\n",
      "    \"mcq\": \"What is the scientific study of life?\",\n",
      "    \"options\": {\n",
      "        \"a\": \"Physics\",\n",
      "        \"b\": \"Chemistry\",\n",
      "        \"c\": \"Biology\",\n",
      "        \"d\": \"Mathematics\"\n",
      "    },\n",
      "    \"correct\": \"c\"\n",
      "},\n",
      "\"2\": {\n",
      "    \"mcq\": \"What is a major theme in biology that explains the unity and diversity of life?\",\n",
      "    \"options\": {\n",
      "        \"a\": \"Evolution\",\n",
      "        \"b\": \"Cell division\",\n",
      "        \"c\": \"Photosynthesis\",\n",
      "        \"d\": \"DNA replication\"\n",
      "    },\n",
      "    \"correct\": \"a\"\n",
      "},\n",
      "\"3\": {\n",
      "    \"mcq\": \"What is the process that allows organisms to move, grow, and reproduce?\",\n",
      "    \"options\": {\n",
      "        \"a\": \"Respiration\",\n",
      "        \"b\": \"Energy processing\",\n",
      "        \"c\": \"Photosynthesis\",\n",
      "        \"d\": \"Cell division\"\n",
      "    },\n",
      "    \"correct\": \"b\"\n",
      "},\n",
      "\"4\": {\n",
      "    \"mcq\": \"What is the study of the various forms of life and their classification?\",\n",
      "    \"options\": {\n",
      "        \"a\": \"Taxonomy\",\n",
      "        \"b\": \"Physics\",\n",
      "        \"c\": \"Chemistry\",\n",
      "        \"d\": \"Mathematics\"\n",
      "    },\n",
      "    \"correct\": \"a\"\n",
      "},\n",
      "\"5\": {\n",
      "    \"mcq\": \"What is the role of organisms in an ecosystem?\",\n",
      "    \"options\": {\n",
      "        \"a\": \"To contribute to the biodiversity of an ecosystem\",\n",
      "        \"b\": \"To control the weather\",\n",
      "        \"c\": \"To regulate the Earth's temperature\",\n",
      "        \"d\": \"To provide a habitat for other organisms\"\n",
      "    },\n",
      "    \"correct\": \"a\"\n",
      "}\n",
      "}\n"
     ]
    }
   ],
   "source": [
    "print(quiz)"
   ]
  },
  {
   "cell_type": "code",
   "execution_count": 128,
   "metadata": {},
   "outputs": [
    {
     "data": {
      "text/plain": [
       "'### RESPONSE_JSON\\n{\\n\"1\": {\\n    \"mcq\": \"What is the scientific study of life?\",\\n    \"options\": {\\n        \"a\": \"Physics\",\\n        \"b\": \"Chemistry\",\\n        \"c\": \"Biology\",\\n        \"d\": \"Mathematics\"\\n    },\\n    \"correct\": \"c\"\\n},\\n\"2\": {\\n    \"mcq\": \"What is a major theme in biology that explains the unity and diversity of life?\",\\n    \"options\": {\\n        \"a\": \"Evolution\",\\n        \"b\": \"Cell division\",\\n        \"c\": \"Photosynthesis\",\\n        \"d\": \"DNA replication\"\\n    },\\n    \"correct\": \"a\"\\n},\\n\"3\": {\\n    \"mcq\": \"What is the process that allows organisms to move, grow, and reproduce?\",\\n    \"options\": {\\n        \"a\": \"Respiration\",\\n        \"b\": \"Energy processing\",\\n        \"c\": \"Photosynthesis\",\\n        \"d\": \"Cell division\"\\n    },\\n    \"correct\": \"b\"\\n},\\n\"4\": {\\n    \"mcq\": \"What is the study of the various forms of life and their classification?\",\\n    \"options\": {\\n        \"a\": \"Taxonomy\",\\n        \"b\": \"Physics\",\\n        \"c\": \"Chemistry\",\\n        \"d\": \"Mathematics\"\\n    },\\n    \"correct\": \"a\"\\n},\\n\"5\": {\\n    \"mcq\": \"What is the role of organisms in an ecosystem?\",\\n    \"options\": {\\n        \"a\": \"To contribute to the biodiversity of an ecosystem\",\\n        \"b\": \"To control the weather\",\\n        \"c\": \"To regulate the Earth\\'s temperature\",\\n        \"d\": \"To provide a habitat for other organisms\"\\n    },\\n    \"correct\": \"a\"\\n}\\n}'"
      ]
     },
     "execution_count": 128,
     "metadata": {},
     "output_type": "execute_result"
    }
   ],
   "source": [
    "quiz"
   ]
  },
  {
   "cell_type": "code",
   "execution_count": 129,
   "metadata": {},
   "outputs": [],
   "source": [
    "import json\n",
    "\n",
    "json_str = quiz.replace('### RESPONSE_JSON\\n', '')\n",
    "\n",
    "# Parse the JSON string\n",
    "json_quiz_responce = json.loads(json_str)"
   ]
  },
  {
   "cell_type": "code",
   "execution_count": 130,
   "metadata": {},
   "outputs": [
    {
     "data": {
      "text/plain": [
       "{'mcq': 'What is the scientific study of life?',\n",
       " 'options': {'a': 'Physics',\n",
       "  'b': 'Chemistry',\n",
       "  'c': 'Biology',\n",
       "  'd': 'Mathematics'},\n",
       " 'correct': 'c'}"
      ]
     },
     "execution_count": 130,
     "metadata": {},
     "output_type": "execute_result"
    }
   ],
   "source": [
    "json_quiz_responce['1']"
   ]
  },
  {
   "cell_type": "code",
   "execution_count": null,
   "metadata": {},
   "outputs": [],
   "source": []
  },
  {
   "cell_type": "code",
   "execution_count": 106,
   "metadata": {},
   "outputs": [
    {
     "name": "stdout",
     "output_type": "stream",
     "text": [
      "What is the scientific study of life?\n",
      "What is a major theme in biology that explains the unity and diversity of life?\n",
      "What is the process that allows organisms to move, grow, and reproduce?\n",
      "What is the study of the various forms of life and their classification?\n",
      "What is the role of organisms in an ecosystem?\n"
     ]
    }
   ],
   "source": [
    "for i in range(len(json_quiz_responce)):\n",
    "    index=str(i+1)\n",
    "    print(json_quiz_responce[index]['mcq'])"
   ]
  },
  {
   "cell_type": "code",
   "execution_count": 107,
   "metadata": {},
   "outputs": [
    {
     "name": "stdout",
     "output_type": "stream",
     "text": [
      "c\n",
      "a\n",
      "b\n",
      "a\n",
      "a\n"
     ]
    }
   ],
   "source": [
    "for i in range(len(json_quiz_responce)):\n",
    "    index=str(i+1)\n",
    "    print(json_quiz_responce[index]['correct'])"
   ]
  },
  {
   "cell_type": "code",
   "execution_count": null,
   "metadata": {},
   "outputs": [],
   "source": []
  },
  {
   "cell_type": "code",
   "execution_count": null,
   "metadata": {},
   "outputs": [],
   "source": []
  },
  {
   "cell_type": "code",
   "execution_count": null,
   "metadata": {},
   "outputs": [],
   "source": []
  },
  {
   "cell_type": "code",
   "execution_count": null,
   "metadata": {},
   "outputs": [],
   "source": []
  },
  {
   "cell_type": "code",
   "execution_count": null,
   "metadata": {},
   "outputs": [],
   "source": []
  },
  {
   "cell_type": "code",
   "execution_count": null,
   "metadata": {},
   "outputs": [],
   "source": []
  },
  {
   "cell_type": "code",
   "execution_count": null,
   "metadata": {},
   "outputs": [],
   "source": []
  }
 ],
 "metadata": {
  "kernelspec": {
   "display_name": "base",
   "language": "python",
   "name": "python3"
  },
  "language_info": {
   "codemirror_mode": {
    "name": "ipython",
    "version": 3
   },
   "file_extension": ".py",
   "mimetype": "text/x-python",
   "name": "python",
   "nbconvert_exporter": "python",
   "pygments_lexer": "ipython3",
   "version": "3.9.13"
  }
 },
 "nbformat": 4,
 "nbformat_minor": 2
}
